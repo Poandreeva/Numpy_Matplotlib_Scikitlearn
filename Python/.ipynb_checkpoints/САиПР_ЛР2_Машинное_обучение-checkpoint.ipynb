{
 "cells": [
  {
   "cell_type": "code",
   "execution_count": 1,
   "metadata": {},
   "outputs": [],
   "source": [
    "# 1. Импорт необходимых библиотек\n",
    "import pandas as pd\n",
    "import sklearn"
   ]
  },
  {
   "cell_type": "code",
   "execution_count": 2,
   "metadata": {},
   "outputs": [],
   "source": [
    "# 2. Загрузка базы данных\n",
    "# Перечислим заголовки колонок с признаками\n",
    "header = ['age', 'sex', 'cp', 'trtbps', 'chol', 'fbs', 'restecg', 'thalachh', 'exng', 'oldpeak', 'slp', 'caa', 'thall', 'output'] \n",
    "# Сформируем DataFrame на основе загруженной базы данных (файл базы данных поместить в одну папку с файлом python) \n",
    "data = pd.read_csv('heart.csv', names=header)"
   ]
  },
  {
   "cell_type": "code",
   "execution_count": 3,
   "metadata": {},
   "outputs": [],
   "source": [
    "# 3. Разделим данные на вектор признаков Х и целевую переменную Y\n",
    "Y = data['output'].values\n",
    "X = data.drop(columns=['output'])"
   ]
  },
  {
   "cell_type": "code",
   "execution_count": 4,
   "metadata": {},
   "outputs": [],
   "source": [
    "# 4. Нормализуем значения вектора признаков\n",
    "X = (X-X.min())/(X.max()-X.min())"
   ]
  },
  {
   "cell_type": "code",
   "execution_count": 5,
   "metadata": {},
   "outputs": [],
   "source": [
    "# 5. Рандомизируем выборку и разделим на обучающую и тестовую выборки\n",
    "from sklearn.model_selection import train_test_split\n",
    "X_train, X_test, Y_train, Y_test = train_test_split(X, Y, test_size=0.33, random_state=1, stratify=Y)"
   ]
  },
  {
   "cell_type": "code",
   "execution_count": 6,
   "metadata": {},
   "outputs": [],
   "source": [
    "# 6. Решим задачу классификации методом логистической регрессии\n",
    "from sklearn.linear_model import LogisticRegression\n",
    "LR_model = LogisticRegression(solver='liblinear')\n",
    "# Обучим модель на обучающей выборке\n",
    "LR_model.fit(X_train, Y_train) \n",
    "# Предскажем класс тестовой выборки\n",
    "LR_prediction = LR_model.predict(X_test) "
   ]
  },
  {
   "cell_type": "code",
   "execution_count": 7,
   "metadata": {},
   "outputs": [
    {
     "name": "stdout",
     "output_type": "stream",
     "text": [
      "Точность модели на обучающей выборке:  0.84\n",
      "Точность модели на тестовой выборке:  0.84\n"
     ]
    }
   ],
   "source": [
    "# 7. Оценим точность классификации\n",
    "LR_train_accuracy = LR_model.score(X_train, Y_train)\n",
    "LR_test_accuracy = LR_model.score(X_test, Y_test)\n",
    "print ('Точность модели на обучающей выборке: ', round (LR_train_accuracy, 2))\n",
    "print ('Точность модели на тестовой выборке: ', round (LR_test_accuracy, 2))"
   ]
  },
  {
   "cell_type": "code",
   "execution_count": 8,
   "metadata": {},
   "outputs": [
    {
     "name": "stdout",
     "output_type": "stream",
     "text": [
      "Матрица несоответствий метода LR:\n",
      " [[37  7]\n",
      " [ 9 47]]\n"
     ]
    }
   ],
   "source": [
    "# 8. Построим матрицу несоответствий \n",
    "from sklearn.metrics import confusion_matrix  \n",
    "print('Матрица несоответствий метода LR:\\n',confusion_matrix(LR_prediction, Y_test))"
   ]
  },
  {
   "cell_type": "code",
   "execution_count": 9,
   "metadata": {},
   "outputs": [
    {
     "name": "stdout",
     "output_type": "stream",
     "text": [
      "Матрица несоответствий метода KNN:\n",
      " [[38 10]\n",
      " [ 8 44]]\n",
      "Точность модели на обучающей выборке:  0.82\n",
      "Точность модели на тестовой выборке:  0.82\n"
     ]
    }
   ],
   "source": [
    "# 9. Метод k-ближайших соседей\n",
    "from sklearn.neighbors import KNeighborsClassifier\n",
    "KNN_model = KNeighborsClassifier(n_neighbors = 11)\n",
    "KNN_model.fit(X_train,Y_train)\n",
    "KNN_prediction = KNN_model.predict(X_test)\n",
    "print('Матрица несоответствий метода KNN:\\n', confusion_matrix(KNN_prediction, Y_test))\n",
    "KNN_train_accuracy = KNN_model.score(X_train, Y_train)\n",
    "KNN_test_accuracy = KNN_model.score(X_test, Y_test)\n",
    "print ('Точность модели на обучающей выборке: ', round (KNN_train_accuracy, 2))\n",
    "print ('Точность модели на тестовой выборке: ', round (KNN_test_accuracy, 2))"
   ]
  },
  {
   "cell_type": "code",
   "execution_count": 10,
   "metadata": {},
   "outputs": [
    {
     "name": "stdout",
     "output_type": "stream",
     "text": [
      "Матрица несоответствий метода LDA:\n",
      " [[36  6]\n",
      " [10 48]]\n",
      "Точность модели на обучающей выборке:  0.85\n",
      "Точность модели на тестовой выборке:  0.84\n"
     ]
    }
   ],
   "source": [
    "# 10. Метод линейного дискриминантного анализа\n",
    "from sklearn.discriminant_analysis import LinearDiscriminantAnalysis  \n",
    "LDA_model = LinearDiscriminantAnalysis() \n",
    "LDA_model.fit(X_train, Y_train)\n",
    "LDA_prediction = LDA_model.predict(X_test) \n",
    "print('Матрица несоответствий метода LDA:\\n', confusion_matrix(LDA_prediction, Y_test))\n",
    "LDA_train_accuracy = LDA_model.score(X_train, Y_train)\n",
    "LDA_test_accuracy = LDA_model.score(X_test, Y_test)\n",
    "print ('Точность модели на обучающей выборке: ', round (LDA_train_accuracy, 2))\n",
    "print ('Точность модели на тестовой выборке: ', round (LDA_test_accuracy, 2))"
   ]
  },
  {
   "cell_type": "code",
   "execution_count": 11,
   "metadata": {},
   "outputs": [
    {
     "name": "stdout",
     "output_type": "stream",
     "text": [
      "Матрица несоответствий метода GNB:\n",
      " [[37 10]\n",
      " [ 9 44]]\n",
      "Точность модели на обучающей выборке:  0.86\n",
      "Точность модели на тестовой выборке:  0.81\n"
     ]
    }
   ],
   "source": [
    "# 11. Метод наивный байесовский\n",
    "from sklearn.naive_bayes import GaussianNB  \n",
    "GNB_model = GaussianNB() \n",
    "GNB_model.fit(X_train, Y_train)\n",
    "GNB_prediction = GNB_model.predict(X_test) \n",
    "print('Матрица несоответствий метода GNB:\\n', confusion_matrix(GNB_prediction, Y_test))\n",
    "GNB_train_accuracy = GNB_model.score(X_train, Y_train)\n",
    "GNB_test_accuracy = GNB_model.score(X_test, Y_test)\n",
    "print ('Точность модели на обучающей выборке: ', round (GNB_train_accuracy, 2))\n",
    "print ('Точность модели на тестовой выборке: ', round (GNB_test_accuracy, 2))"
   ]
  },
  {
   "cell_type": "code",
   "execution_count": 12,
   "metadata": {
    "scrolled": false
   },
   "outputs": [
    {
     "name": "stdout",
     "output_type": "stream",
     "text": [
      "Матрица несоответствий метода DTC:\n",
      " [[35 12]\n",
      " [11 42]]\n",
      "Точность модели на обучающей выборке:  1.0\n",
      "Точность модели на тестовой выборке:  0.77\n"
     ]
    }
   ],
   "source": [
    "# 12. Метод дерева решений\n",
    "from sklearn.tree import DecisionTreeClassifier  \n",
    "DTC_model = DecisionTreeClassifier() \n",
    "DTC_model.fit(X_train, Y_train)\n",
    "DTC_prediction = DTC_model.predict(X_test) \n",
    "print('Матрица несоответствий метода DTC:\\n', confusion_matrix(DTC_prediction, Y_test))\n",
    "DTC_train_accuracy = DTC_model.score(X_train, Y_train)\n",
    "DTC_test_accuracy = DTC_model.score(X_test, Y_test)\n",
    "print ('Точность модели на обучающей выборке: ', round (DTC_train_accuracy, 2))\n",
    "print ('Точность модели на тестовой выборке: ', round (DTC_test_accuracy, 2))"
   ]
  },
  {
   "cell_type": "code",
   "execution_count": 13,
   "metadata": {},
   "outputs": [
    {
     "name": "stdout",
     "output_type": "stream",
     "text": [
      "Матрица несоответствий метода SVC:\n",
      " [[36  6]\n",
      " [10 48]]\n",
      "Точность модели на обучающей выборке:  0.88\n",
      "Точность модели на тестовой выборке:  0.84\n"
     ]
    }
   ],
   "source": [
    "# 13. Метод опорных векторов\n",
    "from sklearn.svm import SVC \n",
    "SVC_model = SVC(gamma='scale') \n",
    "SVC_model.fit(X_train, Y_train)\n",
    "SVC_prediction = SVC_model.predict(X_test) \n",
    "print('Матрица несоответствий метода SVC:\\n', confusion_matrix(SVC_prediction, Y_test))\n",
    "SVC_train_accuracy = SVC_model.score(X_train, Y_train)\n",
    "SVC_test_accuracy = SVC_model.score(X_test, Y_test)\n",
    "print ('Точность модели на обучающей выборке: ', round (SVC_train_accuracy, 2))\n",
    "print ('Точность модели на тестовой выборке: ', round (SVC_test_accuracy, 2))"
   ]
  },
  {
   "cell_type": "code",
   "execution_count": null,
   "metadata": {},
   "outputs": [],
   "source": []
  },
  {
   "cell_type": "code",
   "execution_count": null,
   "metadata": {},
   "outputs": [],
   "source": []
  },
  {
   "cell_type": "code",
   "execution_count": null,
   "metadata": {},
   "outputs": [],
   "source": []
  }
 ],
 "metadata": {
  "kernelspec": {
   "display_name": "Python 3 (ipykernel)",
   "language": "python",
   "name": "python3"
  },
  "language_info": {
   "codemirror_mode": {
    "name": "ipython",
    "version": 3
   },
   "file_extension": ".py",
   "mimetype": "text/x-python",
   "name": "python",
   "nbconvert_exporter": "python",
   "pygments_lexer": "ipython3",
   "version": "3.9.7"
  }
 },
 "nbformat": 4,
 "nbformat_minor": 2
}
